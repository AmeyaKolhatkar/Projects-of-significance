{
 "cells": [
  {
   "cell_type": "markdown",
   "id": "afeaba28",
   "metadata": {},
   "source": [
    "# A SIMPLE PENDULUM\n",
    "We shall study and solve the equations of motion for a simple pendulum. The relevant variables are :\n",
    "* The length of the string (an arbitrary constant) - $L$.\n",
    "* The mass of the bob (an arbitrary constant) - $m$.\n",
    "* The angle that the string makes with the normal at a given moment (a variable) - $\\theta$."
   ]
  },
  {
   "cell_type": "code",
   "execution_count": 168,
   "id": "6d859fcc",
   "metadata": {},
   "outputs": [],
   "source": [
    "import matplotlib.pyplot as plt\n",
    "import numpy as np\n",
    "import sympy as smp\n",
    "from sympy import *\n",
    "import scipy as sp"
   ]
  },
  {
   "cell_type": "code",
   "execution_count": 176,
   "id": "d320acae",
   "metadata": {},
   "outputs": [
    {
     "data": {
      "text/latex": [
       "$\\displaystyle L \\cos{\\left(\\theta{\\left(t \\right)} \\right)}$"
      ],
      "text/plain": [
       "L*cos(\\theta(t))"
      ]
     },
     "execution_count": 176,
     "metadata": {},
     "output_type": "execute_result"
    }
   ],
   "source": [
    "#Defining the variables\n",
    "m, L, t, g = smp.symbols('m , L , t, g')\n",
    "th = smp.symbols(r'\\theta' , cls = smp.Function)\n",
    "th = th(t)\n",
    "L*smp.cos(th)"
   ]
  },
  {
   "cell_type": "markdown",
   "id": "5bd4029a",
   "metadata": {},
   "source": [
    "Going from a single parameter $\\theta$ to the two dimensional cartesian coordinates $x$ and $y$."
   ]
  },
  {
   "cell_type": "code",
   "execution_count": 177,
   "id": "fac64133",
   "metadata": {},
   "outputs": [
    {
     "data": {
      "text/latex": [
       "$\\displaystyle L \\cos{\\left(\\theta{\\left(t \\right)} \\right)}$"
      ],
      "text/plain": [
       "L*cos(\\theta(t))"
      ]
     },
     "execution_count": 177,
     "metadata": {},
     "output_type": "execute_result"
    }
   ],
   "source": [
    "x, x_dot, y, y_dot = smp.symbols('x, x_t, y, y_t')\n",
    "x = L*smp.sin(th)\n",
    "y = L*smp.cos(th)\n",
    "x_dot = smp.diff(x, t)\n",
    "y_dot = smp.diff(y, t)\n",
    "y"
   ]
  },
  {
   "cell_type": "code",
   "execution_count": 181,
   "id": "b7300f6b",
   "metadata": {},
   "outputs": [
    {
     "data": {
      "text/latex": [
       "$\\displaystyle g m \\left(\\frac{L^{2} m \\left(\\frac{d}{d t} \\theta{\\left(t \\right)}\\right)^{2}}{2} - L \\cos{\\left(\\theta{\\left(t \\right)} \\right)} - g m \\left(\\frac{L^{2} m \\left(\\frac{d}{d t} \\theta{\\left(t \\right)}\\right)^{2}}{2} - L \\cos{\\left(\\theta{\\left(t \\right)} \\right)} - g m \\left(\\frac{L^{2} m \\left(\\frac{d}{d t} \\theta{\\left(t \\right)}\\right)^{2}}{2} - L \\cos{\\left(\\theta{\\left(t \\right)} \\right)} - g m \\left(- L \\cos{\\left(\\theta{\\left(t \\right)} \\right)} + L\\right)\\right)\\right)\\right)$"
      ],
      "text/plain": [
       "g*m*(L**2*m*Derivative(\\theta(t), t)**2/2 - L*cos(\\theta(t)) - g*m*(L**2*m*Derivative(\\theta(t), t)**2/2 - L*cos(\\theta(t)) - g*m*(L**2*m*Derivative(\\theta(t), t)**2/2 - L*cos(\\theta(t)) - g*m*(-L*cos(\\theta(t)) + L))))"
      ]
     },
     "execution_count": 181,
     "metadata": {},
     "output_type": "execute_result"
    }
   ],
   "source": [
    "T, V = smp.symbols('T , V')\n",
    "#Kinetic Energy\n",
    "T = smp.Rational(1, 2) * m * (x_dot**2 + y_dot**2).simplify()\n",
    "\n",
    "#Potential Energy\n",
    "V = m*g*(L - y)\n",
    "\n",
    "#Lagrangian\n",
    "L = smp.symbols('L' , cls=smp.Function)\n",
    "L = T - V\n",
    "V"
   ]
  },
  {
   "cell_type": "markdown",
   "id": "164d1e3c",
   "metadata": {},
   "source": [
    "$ \\theta_t $ is to be interpreted as the time derivative of $\\theta$\n",
    "\n",
    "The Euler Lagrange equations of motion are :\n",
    "$$ \\frac{\\partial L}{\\partial \\theta}\\;=\\;\\frac{d}{dt} \\Big(\\frac{\\partial L}{\\partial \\theta_t} \\Big) $$"
   ]
  },
  {
   "cell_type": "code",
   "execution_count": 164,
   "id": "65e40d69",
   "metadata": {},
   "outputs": [
    {
     "data": {
      "text/latex": [
       "$\\displaystyle - L^{2} m \\frac{d^{2}}{d t^{2}} \\theta{\\left(t \\right)} - L g m \\sin{\\left(\\theta{\\left(t \\right)} \\right)}$"
      ],
      "text/plain": [
       "-L**2*m*Derivative(\\theta(t), (t, 2)) - L*g*m*sin(\\theta(t))"
      ]
     },
     "execution_count": 164,
     "metadata": {},
     "output_type": "execute_result"
    }
   ],
   "source": [
    "th_dot, th_ddot = smp.symbols(r'\\theta_t , \\theta_tt')\n",
    "th_dot = smp.diff(th , t)\n",
    "th_ddot = smp.diff(th_dot , t)\n",
    "LE = smp.diff(L , th) - smp.diff(smp.diff(L , th_dot) , t).simplify()\n",
    "LE"
   ]
  },
  {
   "cell_type": "code",
   "execution_count": 145,
   "id": "58dd94e8",
   "metadata": {},
   "outputs": [
    {
     "data": {
      "text/latex": [
       "$\\displaystyle - \\frac{g \\sin{\\left(\\theta{\\left(t \\right)} \\right)}}{L}$"
      ],
      "text/plain": [
       "-g*sin(\\theta(t))/L"
      ]
     },
     "execution_count": 145,
     "metadata": {},
     "output_type": "execute_result"
    }
   ],
   "source": [
    "solution = smp.solve([LE] , (th_ddot))\n",
    "solution[th_ddot]"
   ]
  }
 ],
 "metadata": {
  "celltoolbar": "Raw Cell Format",
  "kernelspec": {
   "display_name": "Python 3 (ipykernel)",
   "language": "python",
   "name": "python3"
  },
  "language_info": {
   "codemirror_mode": {
    "name": "ipython",
    "version": 3
   },
   "file_extension": ".py",
   "mimetype": "text/x-python",
   "name": "python",
   "nbconvert_exporter": "python",
   "pygments_lexer": "ipython3",
   "version": "3.9.12"
  }
 },
 "nbformat": 4,
 "nbformat_minor": 5
}
